{
 "cells": [
  {
   "cell_type": "markdown",
   "metadata": {},
   "source": [
    "## 04 - part 3 - Filtering in the frequency domain"
   ]
  },
  {
   "cell_type": "code",
   "execution_count": 1,
   "metadata": {},
   "outputs": [],
   "source": [
    "import numpy as np\n",
    "import imageio\n",
    "import matplotlib.pyplot as plt\n",
    "from numpy import fft"
   ]
  },
  {
   "cell_type": "code",
   "execution_count": 108,
   "metadata": {},
   "outputs": [],
   "source": [
    "def low_pass_filter(n, m, r):\n",
    "    filter = np.zeros((n, m))\n",
    "    for i in range(n):\n",
    "        for j in range(m):\n",
    "            filter[i][j] = 1 if np.sqrt((i - n/2.0)**2 + (j - m/2.0)**2) <= r else 0\n",
    "    return filter"
   ]
  },
  {
   "cell_type": "code",
   "execution_count": 3,
   "metadata": {},
   "outputs": [],
   "source": [
    "def high_pass_filter(n, m, r):\n",
    "    filter = np.zeros((n, m))\n",
    "    for i in range(n):\n",
    "        for j in range(m):\n",
    "            filter[i][j] = 1 if np.sqrt((i - n/2)**2 + (j - m/2)**2) > r else 0\n",
    "    return filter"
   ]
  },
  {
   "cell_type": "code",
   "execution_count": 4,
   "metadata": {},
   "outputs": [],
   "source": [
    "def band_stop_filter(n, m, r1, r2):\n",
    "    filter = np.zeros((n, m))\n",
    "    for i in range(n):\n",
    "        for j in range(m):\n",
    "            d = np.sqrt((i - n/2)**2 + (j - m/2)**2)\n",
    "            filter[i][j] = 0 if d >= r1 and d <= r2  else 1\n",
    "    return filter"
   ]
  },
  {
   "cell_type": "code",
   "execution_count": 5,
   "metadata": {},
   "outputs": [],
   "source": [
    "def laplacian_filter(n, m):\n",
    "    filter = np.zeros((n, m))\n",
    "    for i in range(n):\n",
    "        for j in range(m):\n",
    "            filter[i][j] = -4 * (np.pi**2) * ((i - n/2)**2 + (j - m/2)**2)\n",
    "    return filter"
   ]
  },
  {
   "cell_type": "code",
   "execution_count": 126,
   "metadata": {},
   "outputs": [],
   "source": [
    "def gaussian_filter(n, m, sigma1, sigma2):\n",
    "    filter = np.zeros((n, m))\n",
    "    for i in range(n):\n",
    "        for j in range(m):\n",
    "            filter[i][j] = np.e ** -(((i - n/2)**2 / ((2 * sigma1**2)) + (j - m/2)**2 / (2 * sigma2**2)))\n",
    "    return filter        "
   ]
  },
  {
   "cell_type": "code",
   "execution_count": 7,
   "metadata": {},
   "outputs": [],
   "source": [
    "def read_image(image_name):\n",
    "    return imageio.imread(f\"images/{image_name}\")"
   ]
  },
  {
   "cell_type": "code",
   "execution_count": 8,
   "metadata": {},
   "outputs": [],
   "source": [
    "def print_image(image):\n",
    "    plt.figure(figsize=(10,10)) \n",
    "    plt.imshow(image, cmap=\"gray\")\n",
    "    plt.axis('off') # remove axis with numbers"
   ]
  },
  {
   "cell_type": "code",
   "execution_count": 9,
   "metadata": {},
   "outputs": [],
   "source": [
    "def root_mean_squared_error(result_image, reference_image):\n",
    "    n = result_image.shape[0]\n",
    "    sum = 0\n",
    "    for i in range(n):\n",
    "        for j in range(n):\n",
    "            sum += (result_image[i][j] - reference_image[i][j]) ** 2\n",
    "    return np.round((np.sqrt(sum))/n, 4)\n",
    "\n",
    "\n",
    "# print_image(reference_image)"
   ]
  },
  {
   "cell_type": "code",
   "execution_count": 11,
   "metadata": {},
   "outputs": [],
   "source": [
    "def get_filter_from_input(image_n, image_m):\n",
    "    index = int(input().rstrip())\n",
    "    match index:\n",
    "        case 0: # low-pass filter\n",
    "            r = int(input().rstrip())\n",
    "            return low_pass_filter(image_n, image_m, r)\n",
    "        case 1: # high-pass\n",
    "            r = int(input().rstrip())\n",
    "            return high_pass_filter(image_n, image_m, r)\n",
    "        case 2: # band-stop\n",
    "            r0 = int(input().rstrip())\n",
    "            r1 = int(input().rstrip())\n",
    "            return band_stop_filter(image_n, image_m, r0, r1)\n",
    "        case 3: # laplacian\n",
    "            return laplacian_filter(image_n, image_m)\n",
    "        case 4: # gaussian\n",
    "            s0 = int(input().rstrip())\n",
    "            s1 = int(input().rstrip())\n",
    "            return gaussian_filter(image_n, image_m, s0, s1)"
   ]
  },
  {
   "cell_type": "code",
   "execution_count": 113,
   "metadata": {},
   "outputs": [],
   "source": [
    "def filter_fft_image(image, filter):\n",
    "    fourier_domain = fft.fft2(image)\n",
    "    fourier_filtered = fft.fftshift(fourier_domain) * filter\n",
    "    # fourier_filtered = fourier_domain * filter\n",
    "    filtered_image = fft.ifft2(fft.ifftshift(fourier_filtered))\n",
    "    # filtered_image = fft.ifft2(fourier_filtered)\n",
    "    real_image = np.real(filtered_image)\n",
    "    result = (real_image - np.min(real_image)) * (255 / (np.max(real_image) - np.min(real_image)))\n",
    "    return result\n"
   ]
  },
  {
   "cell_type": "code",
   "execution_count": 127,
   "metadata": {},
   "outputs": [],
   "source": [
    "base_image_name = \"apollo17.png\"\n",
    "reference_image_name = \"apollo17_ref-case9.png\"\n",
    "index = 0\n",
    "radius = 20\n",
    "sigma1 = 60\n",
    "sigma2 = 30"
   ]
  },
  {
   "cell_type": "code",
   "execution_count": 128,
   "metadata": {},
   "outputs": [
    {
     "name": "stderr",
     "output_type": "stream",
     "text": [
      "C:\\Users\\Lucas\\AppData\\Local\\Temp\\ipykernel_10964\\1778181336.py:2: DeprecationWarning: Starting with ImageIO v3 the behavior of this function will switch to that of iio.v3.imread. To keep the current behavior (and make this warning disappear) use `import imageio.v2 as imageio` or call `imageio.v2.imread` directly.\n",
      "  return imageio.imread(f\"images/{image_name}\")\n"
     ]
    }
   ],
   "source": [
    "base_image = read_image(base_image_name)\n",
    "reference_image = read_image(reference_image_name)"
   ]
  },
  {
   "cell_type": "code",
   "execution_count": 129,
   "metadata": {},
   "outputs": [],
   "source": [
    "result_image = filter_fft_image(base_image, gaussian_filter(base_image.shape[0], base_image.shape[1], sigma1, sigma2))"
   ]
  },
  {
   "cell_type": "code",
   "execution_count": 130,
   "metadata": {},
   "outputs": [
    {
     "data": {
      "text/plain": [
       "0.5769"
      ]
     },
     "execution_count": 130,
     "metadata": {},
     "output_type": "execute_result"
    }
   ],
   "source": [
    "root_mean_squared_error(result_image, reference_image)"
   ]
  }
 ],
 "metadata": {
  "kernelspec": {
   "display_name": "Python 3",
   "language": "python",
   "name": "python3"
  },
  "language_info": {
   "codemirror_mode": {
    "name": "ipython",
    "version": 3
   },
   "file_extension": ".py",
   "mimetype": "text/x-python",
   "name": "python",
   "nbconvert_exporter": "python",
   "pygments_lexer": "ipython3",
   "version": "3.11.9"
  }
 },
 "nbformat": 4,
 "nbformat_minor": 2
}
